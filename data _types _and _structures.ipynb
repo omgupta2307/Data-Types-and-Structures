{
 "cells": [
  {
   "cell_type": "raw",
   "id": "0cb0f88d-dd99-4023-a2cf-083ebb65f27a",
   "metadata": {},
   "source": [
    "                                    Data Types and Structures Questions\n",
    "                                   ______________________________________\n",
    "\n",
    "\n",
    "Q1. What are data structures, and why are they important?\n",
    "\n",
    "A:- Data Structure :- Way of organizing and storing data so that can be accessed and manipulating .\n",
    "They are important because:-\n",
    "a. They help you store and arrange data properly (like lists ,sets or dicionaries).\n",
    "b. Right data stricture makes your code faster and more efficient .\n",
    "c. They make it easier to write .\n",
    "\n",
    "Q2.Explain the difference between mutable and immutable data types with examples ?\n",
    "\n",
    "A:- Mutable Data Types \n",
    "- can be change after creation \n",
    "- you can modify , add or remove elements . \n",
    "- list , dict , set\n",
    " my_list = [ 1 , 2 , 3 ]\n",
    " my_list[0] = 10\n",
    " print(my_list)\n",
    " Output : [ 10 , 2 , 3]\n",
    "Immutable Data Types \n",
    "- cannot be change after creation \n",
    "- you cannot modify , add or remove elements . \n",
    "- int , float , str ,tuple\n",
    "my_str \"hello\"\n",
    "my_str[0] = \"H\"\n",
    "# Error strings are immutable\n",
    "\n",
    "Q3. What are the main differences between lists and tuples in Python?\n",
    "\n",
    "A:- Main differences between lists and tuple are:- \n",
    "so list are mutable you can change the value after creation\n",
    "syntax -[]\n",
    "tuple are immutable you cannot change the value after creation\n",
    "syntax -()\n",
    "\n",
    "Q4.Describe how dictionaries store data?\n",
    "\n",
    "A:- * A dictionary stores data as key: value pairs.\n",
    "* Each key is unique and points to a value .\n",
    "Example :\n",
    "student = { \"name\": \"Om\" , \"age\": 20}\n",
    "\n",
    "Q5.Why might you use a set instead of a list in Python ?\n",
    "\n",
    "A:- Use a set when you want to :\n",
    "1. Remove duplicates\n",
    "2. Check membership faster\n",
    "3. Do set operations\n",
    "Examples:-\n",
    "my_list = [ 1,2,2,2,3,3,4]\n",
    "my_set = set(my_list)\n",
    "print(my_set)\n",
    "Output: {1,2,3,4}\n",
    "\n",
    "Q6. What is a string in Python, and how is it different from a list ?\n",
    "\n",
    "A:- A string is a sequence of characters .\n",
    "* it is written inside quotes (\" \" or ' ' )\n",
    "* strings are immutable (you can't change characters directly).\n",
    "Example:-\n",
    "name = \"HELLO\"\n",
    "print(name[H])\n",
    "Output: H\n",
    "\n",
    "Q7. How do tuples ensure data integrity in Python?\n",
    "\n",
    "A:- How to double ensures data integrity in python:\n",
    "1.  Use Proper Data Types\n",
    "* Store data in the correct type (eg;, use int for age , str for names).\n",
    "age = int(input(\"Enter your age:\"))\n",
    "\n",
    "2. Validate Input Data\n",
    "* Check data Before using \n",
    "if age>0:\n",
    "    print(\"Valid age\")\n",
    "else:\n",
    "    print(\"Invalid age \")\n",
    "\n",
    "3. Use Assertions(Extra Check)\n",
    "\n",
    "assert age> 0 , # \"Age must be postive\"\n",
    "\n",
    "Q8. What is a hash table, and how does it relate to dictionaries in Python?\n",
    "\n",
    "A:- A hash table is a data structure that stores data in key value pairs.\n",
    "It uses a hash function to quckily find the value using the key .\n",
    "\n",
    "In python , the dictionary(dict) is built using a hash table.\n",
    "*  Keys are hashed(converted to a number).\n",
    "* That number decides where the value is stored in memory.\n",
    "* This makes searching for values very fast .\n",
    " my_dict = {\"name\": \"Om\" ,\"age\":22}\n",
    " prinr(my_dict[\"name\"])\n",
    " Output: Om\n",
    "\n",
    "Q9. Can lists contain different data types in Python?\n",
    "\n",
    "A:- Yes , a list can contain different data types in python.\n",
    "Python list are flexible , and they can stores mixed data type like:\n",
    "*int\n",
    "*str\n",
    "*floats\n",
    "*booleans\n",
    "*even other list and dictionaries\n",
    "\n",
    "Q10.Explain why strings are immutable in Python?\n",
    "\n",
    "A:- Strings are immutable because once you created them , you can't change them.\n",
    "This makes your program faster , safer , and less error prone, especially when using strings in things like dictionaries.\n",
    "Example:\n",
    "text =\"hello\"\n",
    "text[0] = \"H\"\n",
    "#This given an error , because strings can't be changed\n",
    "\n",
    "Q11.What advantages do dictionaries offer over lists for certain tasks?\n",
    "\n",
    "A:- Disadvantage of dicitionaries over Lists in python :\n",
    "* No Order\n",
    " Dictionaries didn't keep items in order like lists do .\n",
    "* More Memory Usages\n",
    " Dictionaries use more memory than lists\n",
    "*Not Good for Simple Sequences\n",
    " For task like a storing a simple list of items (eg. names, numbers).\n",
    "\n",
    "Q12.Describe a scenario where using a tuple would be preferable over a list ?\n",
    "\n",
    "A:- Use a tuple when you want to store data that should not change.\n",
    " You are storing the coordinates of a location :\n",
    " location = (28.6139 , 77.2090)\n",
    "Since the location doesn't change , a tuple is safer than a list.\n",
    "So, use a tuple when your data is fixed and protected.\n",
    "\n",
    "Q13.How do sets handle duplicate values in Python ?\n",
    "\n",
    "A:- Sets automatically remove duplicate values.\n",
    "They only keep unique items.\n",
    "Example:\n",
    "my_set = {1,2,2,3,3,3,4}\n",
    "print(my_set)\n",
    "Output: {1,2,3}\n",
    "\n",
    "Q14.How does the “in” keyword work differently for lists and dictionaries?\n",
    "\n",
    "A:- 1. In a list - It checks if a value is in the list.\n",
    "my_list = [1,2,3]\n",
    "print(2 in my_list)\n",
    "Output: True\n",
    "\n",
    "2.In a dictionary - It checks if a key  is in the dictionary\n",
    "my_dict = {\"name\": \"Om\" , \"age\": 20}\n",
    "print(\"name\" in my_dict}\n",
    "Output: True\n",
    "\n",
    "Q15. Can you modify the elements of a tuple? Explain why or why not?\n",
    "\n",
    "A:- No , you cannot\n",
    "Because tuples are immutable - once created, their values cannot be changed , added or removed. \n",
    "Example(Will cause an error):\n",
    "my_tuple = (10,20,30)\n",
    "my_tuple[0] = 100 \n",
    "Output: Error! Tuples can't be changed\n",
    "\n",
    "Q16. What is a nested dictionary, and give an example of its use case?\n",
    "\n",
    "A:- A nested dictionary means a dictionary inside another dictionary.\n",
    "It helps you store complex data in a structured way.\n",
    "Example:\n",
    "students = {\n",
    "    \"101\": {\"name\": \"Om\" , \"age\":20},\n",
    "    \"102\": {\"name\": \"Prem\" ,\"age\":22}\n",
    " }\n",
    "Here, each students ID maps to another dictionary with details.\n",
    "\n",
    "Use Cases:\n",
    "*student info\n",
    "*Employee data\n",
    "*Product details \n",
    "\n",
    "Q17.Describe the time complexity of accessing elements in a dictionary ?\n",
    "\n",
    "A:-The average time complexity is 0(1) which means constant time.\n",
    "It's is very fast beacuse python uses a hash table behind the dictionary.\n",
    "Example:\n",
    "my_dict ={}\n",
    "my_dict{\"name\"} = \"Om\" #0(1)\n",
    "\n",
    "Q18.In what situations are lists preferred over dictionaries?\n",
    "\n",
    "A:-Use a list instead of adictionary when:-\n",
    "1.You only need to store value\n",
    "-Like list of names,numbers or item.\n",
    "-No need for key value pairs.\n",
    "2. Order matters\n",
    "-Lists keep the order of item automatticaly\n",
    "3.You want to loop through item easily\n",
    "- Lists are better for looping\n",
    "Examples:-\n",
    "fruits = [ \"apple\", \"banana\",\"mango\"]\n",
    "print(fruit[0])\n",
    "Output: apple\n",
    "\n",
    "Q19.Why are dictionaries considered unordered, and how does that affect data retrieval?\n",
    "\n",
    "A:-Befor python version 3.7 , dictionaries did not keep the order of items.\n",
    "That means when you added key-value pair, python did not remember the order.\n",
    "How Did That Affected Data Retrieval:-\n",
    "-When you loop through the dictionary,the item could come out in any order.\n",
    "Example\"-\n",
    "{\"name\": \"om\", \"age\":23,\"city\":\"Dhanbad\"}\n",
    "my_dict:\n",
    "key\n",
    "Output:city\n",
    "       name\n",
    "        age\n",
    "\n",
    "Q20. Explain the difference between a list and a dictionary in terms of data retrieval.\n",
    "\n",
    "A:-FEATURE    | LIST                         | DICTIONARY\n",
    "Access method |By indecing(number  position) | By key (name/lable)\n",
    "Speed         |Slower (O(n) in serach)       | Faster (O(1)in search)\n",
    "User case     |When you need ordered data    | When you need labeled data\n",
    "\n",
    "    "
   ]
  },
  {
   "cell_type": "code",
   "execution_count": null,
   "id": "74f26fed-45d2-42f7-b1ca-d1c04b9e8d47",
   "metadata": {},
   "outputs": [],
   "source": [
    "                                        Practical Questions\n",
    "                                       _______________________\n",
    "\n",
    "Q1.Write a code to create a string with your name and print it?"
   ]
  },
  {
   "cell_type": "code",
   "execution_count": 2,
   "id": "184416ee-cd82-4b07-9cd8-2dbda3d3cbd2",
   "metadata": {},
   "outputs": [
    {
     "name": "stdout",
     "output_type": "stream",
     "text": [
      "Om\n"
     ]
    }
   ],
   "source": [
    "name = \"Om\"\n",
    "print(name)"
   ]
  },
  {
   "cell_type": "code",
   "execution_count": null,
   "id": "771734ca-b1e6-451d-8531-e5dba4780225",
   "metadata": {},
   "outputs": [],
   "source": [
    "Q2.Write a code to find the length of the string \"Hello World\"?"
   ]
  },
  {
   "cell_type": "code",
   "execution_count": 3,
   "id": "ebdaab87-8573-4ccd-9120-dadc8e305a31",
   "metadata": {},
   "outputs": [
    {
     "name": "stdout",
     "output_type": "stream",
     "text": [
      "11\n"
     ]
    }
   ],
   "source": [
    "string= \"Hello World\"\n",
    "print(len(string))"
   ]
  },
  {
   "cell_type": "code",
   "execution_count": null,
   "id": "18b79be9-ad47-4eae-87b6-da914a61c191",
   "metadata": {},
   "outputs": [],
   "source": [
    "Q3.Write a code to slice the first 3 characters from the string \"Python Programming\"?"
   ]
  },
  {
   "cell_type": "code",
   "execution_count": 7,
   "id": "b3766803-da67-4804-b12d-2ca8aa8b394a",
   "metadata": {},
   "outputs": [
    {
     "name": "stdout",
     "output_type": "stream",
     "text": [
      "Pyt\n"
     ]
    }
   ],
   "source": [
    "string = \"Python Programming\"\n",
    "string[0:3]\n",
    "print(string[0:3])\n"
   ]
  },
  {
   "cell_type": "code",
   "execution_count": null,
   "id": "09a322d6-2e75-4543-b966-2d1e10636a07",
   "metadata": {},
   "outputs": [],
   "source": [
    "Q4.Write a code to convert the string \"hello\" to uppercase?"
   ]
  },
  {
   "cell_type": "code",
   "execution_count": 9,
   "id": "533da3cd-b3f7-4ab7-ac40-821df740f607",
   "metadata": {},
   "outputs": [
    {
     "data": {
      "text/plain": [
       "'HELLO'"
      ]
     },
     "execution_count": 9,
     "metadata": {},
     "output_type": "execute_result"
    }
   ],
   "source": [
    "string = \"hello\"\n",
    "string.upper()"
   ]
  },
  {
   "cell_type": "code",
   "execution_count": null,
   "id": "bf4926e2-f3bd-4aba-b984-f103c127f9ec",
   "metadata": {},
   "outputs": [],
   "source": [
    "Q5.Write a code to replace the word \"apple\" with \"orange\" in the string \"I like apple\"P"
   ]
  },
  {
   "cell_type": "code",
   "execution_count": 17,
   "id": "a5a2e103-6756-44d1-9d94-be3cec6e49e2",
   "metadata": {},
   "outputs": [
    {
     "data": {
      "text/plain": [
       "'I like orange'"
      ]
     },
     "execution_count": 17,
     "metadata": {},
     "output_type": "execute_result"
    }
   ],
   "source": [
    "fruits = \"I like apple\" \n",
    "fruits.replace(\"apple\",\"orange\")"
   ]
  },
  {
   "cell_type": "code",
   "execution_count": null,
   "id": "b4673cfb-bff6-46e1-b75f-4fa6e35d202c",
   "metadata": {},
   "outputs": [],
   "source": [
    "Q6.Write a code to create a list with numbers 1 to 5 and print it."
   ]
  },
  {
   "cell_type": "code",
   "execution_count": 20,
   "id": "33535af6-5f6a-42d4-b6b0-deb25d43d098",
   "metadata": {},
   "outputs": [
    {
     "name": "stdout",
     "output_type": "stream",
     "text": [
      "[1, 2, 3, 4, 5]\n"
     ]
    }
   ],
   "source": [
    "numbers = list(range(1,6))\n",
    "print(numbers)"
   ]
  },
  {
   "cell_type": "code",
   "execution_count": null,
   "id": "2a82d1b4-3d94-47dd-b0ea-0ab053b08968",
   "metadata": {},
   "outputs": [],
   "source": [
    "Q7.Write a code to append the number 10 to the list [1, 2, 3, 4]."
   ]
  },
  {
   "cell_type": "code",
   "execution_count": 28,
   "id": "32c2bfc1-5947-40ee-a0c4-f52f342ce415",
   "metadata": {},
   "outputs": [
    {
     "name": "stdout",
     "output_type": "stream",
     "text": [
      "[1, 2, 3, 4, 10]\n"
     ]
    }
   ],
   "source": [
    "numbers  = [1, 2, 3,4]\n",
    "numbers.append(10)\n",
    "print(numbers)"
   ]
  },
  {
   "cell_type": "code",
   "execution_count": null,
   "id": "c4501eab-cb39-482d-b46c-d0c2e82b8764",
   "metadata": {},
   "outputs": [],
   "source": [
    "Q8.Write a code to remove the number 3 from the list [1, 2, 3, 4, 5]."
   ]
  },
  {
   "cell_type": "code",
   "execution_count": 29,
   "id": "d9a311be-5f91-41ab-bdcd-44e2a5a7079b",
   "metadata": {},
   "outputs": [
    {
     "name": "stdout",
     "output_type": "stream",
     "text": [
      "[1, 2, 4, 5]\n"
     ]
    }
   ],
   "source": [
    "numbers = [ 1,2,3,4,5]\n",
    "numbers.remove(3)\n",
    "print(numbers)"
   ]
  },
  {
   "cell_type": "code",
   "execution_count": null,
   "id": "0dbeaa0a-cb4e-44a2-80f4-f1bd83a683eb",
   "metadata": {},
   "outputs": [],
   "source": [
    "Q9. Write a code to access the second element in the list ['a', 'b', 'c', 'd']."
   ]
  },
  {
   "cell_type": "code",
   "execution_count": 33,
   "id": "cf843e72-b57a-4b7e-910d-0a2912806444",
   "metadata": {},
   "outputs": [
    {
     "name": "stdout",
     "output_type": "stream",
     "text": [
      "b\n"
     ]
    }
   ],
   "source": [
    "letters= ['a', 'b', 'c', 'd']\n",
    "second_element = letters[1]\n",
    "print(second_element)"
   ]
  },
  {
   "cell_type": "code",
   "execution_count": null,
   "id": "3ac44f45-374d-4bf9-a244-5316ada3fb5d",
   "metadata": {},
   "outputs": [],
   "source": [
    "Q10.Write a code to reverse the list [10, 20, 30, 40, 50]"
   ]
  },
  {
   "cell_type": "code",
   "execution_count": 36,
   "id": "02b7dd54-3ac0-4604-88e8-d5ca5a2624ef",
   "metadata": {},
   "outputs": [
    {
     "name": "stdout",
     "output_type": "stream",
     "text": [
      "[50, 40, 30, 20, 10]\n"
     ]
    }
   ],
   "source": [
    "numbers =  [10, 20, 30, 40, 50]\n",
    "numbers.reverse()\n",
    "print(numbers)"
   ]
  },
  {
   "cell_type": "code",
   "execution_count": null,
   "id": "a5235bb2-dc92-42ca-941c-91942ab39857",
   "metadata": {},
   "outputs": [],
   "source": [
    "Q11. Write a code to create a tuple with the elements 100, 200, 300 and print it."
   ]
  },
  {
   "cell_type": "code",
   "execution_count": 45,
   "id": "d6f89048-ed4e-46fc-b545-1b56306ec681",
   "metadata": {},
   "outputs": [
    {
     "name": "stdout",
     "output_type": "stream",
     "text": [
      "(100, 200, 300)\n",
      "<class 'tuple'>\n"
     ]
    }
   ],
   "source": [
    "numbers = (100,200,300)\n",
    "print(numbers)\n",
    "print(type(numbers))"
   ]
  },
  {
   "cell_type": "code",
   "execution_count": null,
   "id": "0164dbda-a0e8-4f22-b718-2990d133dd73",
   "metadata": {},
   "outputs": [],
   "source": [
    "Q12. Write a code to access the second-to-last element of the tuple ('red', 'green', 'blue', 'yellow')."
   ]
  },
  {
   "cell_type": "code",
   "execution_count": 49,
   "id": "cc93a0ac-dfb4-4876-8aa6-dd631e0d9f24",
   "metadata": {},
   "outputs": [
    {
     "data": {
      "text/plain": [
       "'blue'"
      ]
     },
     "execution_count": 49,
     "metadata": {},
     "output_type": "execute_result"
    }
   ],
   "source": [
    "colour = ('red', 'green', 'blue', 'yellow')\n",
    "colour[-2]"
   ]
  },
  {
   "cell_type": "code",
   "execution_count": null,
   "id": "f48a1b2b-ef6c-4d36-878e-267a516f2b3f",
   "metadata": {},
   "outputs": [],
   "source": [
    "Q13.Write a code to find the minimum number in the tuple (10, 20, 5, 15)."
   ]
  },
  {
   "cell_type": "code",
   "execution_count": 50,
   "id": "6b2db917-79ed-4a17-b1c6-17178f3884d4",
   "metadata": {},
   "outputs": [
    {
     "data": {
      "text/plain": [
       "20"
      ]
     },
     "execution_count": 50,
     "metadata": {},
     "output_type": "execute_result"
    }
   ],
   "source": [
    "numbers = (10, 20, 5, 15)\n",
    "max(numbers)"
   ]
  },
  {
   "cell_type": "code",
   "execution_count": null,
   "id": "f72cf42b-6408-44db-b57b-47d58a256a1f",
   "metadata": {},
   "outputs": [],
   "source": [
    "Q14. Write a code to find the index of the element \"cat\" in the tuple ('dog', 'cat', 'rabbit')."
   ]
  },
  {
   "cell_type": "code",
   "execution_count": 51,
   "id": "94db43bc-8cee-4d16-951a-87a472cc7236",
   "metadata": {},
   "outputs": [
    {
     "name": "stdout",
     "output_type": "stream",
     "text": [
      "1\n"
     ]
    }
   ],
   "source": [
    "animals = (\"dog\",\"cat\",\"rabbit\")\n",
    "index_of_cat = animals.index('cat')\n",
    "print(index_of_cat)"
   ]
  },
  {
   "cell_type": "code",
   "execution_count": null,
   "id": "6131e560-7003-4e02-9280-2b080eca402a",
   "metadata": {},
   "outputs": [],
   "source": [
    "Q15.Write a code to create a tuple containing three different fruits and check if \"kiwi\" is in it."
   ]
  },
  {
   "cell_type": "code",
   "execution_count": 53,
   "id": "fdfcb9b6-91ae-4d83-b60c-346cd3f2e5b7",
   "metadata": {},
   "outputs": [
    {
     "name": "stdout",
     "output_type": "stream",
     "text": [
      "kiwi is in the tuple.\n"
     ]
    }
   ],
   "source": [
    "fruits = (\"kiwi\", \"orange\", \"mango\")\n",
    "if 'kiwi' in fruits:\n",
    "    print(\"kiwi is in the tuple.\")\n",
    "else:\n",
    "    print(\"kiwi is not in the tuple.\")\n"
   ]
  },
  {
   "cell_type": "code",
   "execution_count": null,
   "id": "42841afb-1c41-44bc-bcfe-305044fc0d03",
   "metadata": {},
   "outputs": [],
   "source": [
    "Q16. Write a code to create a set with the elements 'a', 'b', 'c' and print it."
   ]
  },
  {
   "cell_type": "code",
   "execution_count": 54,
   "id": "e7086a1e-9cc2-46a4-b29a-051e41b6c00d",
   "metadata": {},
   "outputs": [
    {
     "name": "stdout",
     "output_type": "stream",
     "text": [
      "{'a', 'c', 'b'}\n"
     ]
    }
   ],
   "source": [
    "words = {\"a\" , \"b\" ,\"c\"}\n",
    "print(words)"
   ]
  },
  {
   "cell_type": "code",
   "execution_count": null,
   "id": "c6c4798f-b8fa-43b5-a9bd-ee068183de6f",
   "metadata": {},
   "outputs": [],
   "source": [
    "Q17.Write a code to clear all elements from the set {1, 2, 3, 4, 5}."
   ]
  },
  {
   "cell_type": "code",
   "execution_count": 57,
   "id": "348a4d09-91d3-4046-ab22-637b2df1ed94",
   "metadata": {},
   "outputs": [
    {
     "name": "stdout",
     "output_type": "stream",
     "text": [
      "set()\n"
     ]
    }
   ],
   "source": [
    "numbers = {1 ,2 ,3,4,5}\n",
    "numbers.clear()\n",
    "print(numbers)\n"
   ]
  },
  {
   "cell_type": "code",
   "execution_count": null,
   "id": "299f61cb-b987-4f69-addc-f4dcbf2fe636",
   "metadata": {},
   "outputs": [],
   "source": [
    "Q18.Write a code to remove the element 4 from the set {1, 2, 3, 4}."
   ]
  },
  {
   "cell_type": "code",
   "execution_count": 58,
   "id": "b3ced45d-f4ad-4a89-b63c-4746f35d789d",
   "metadata": {},
   "outputs": [
    {
     "name": "stdout",
     "output_type": "stream",
     "text": [
      "{1, 2, 3}\n"
     ]
    }
   ],
   "source": [
    "numbers = {1 ,2 ,3,4}\n",
    "numbers.remove(4)\n",
    "print(numbers)"
   ]
  },
  {
   "cell_type": "code",
   "execution_count": null,
   "id": "0dab4a4d-3ae6-49a5-ba76-e58f7203c0d1",
   "metadata": {},
   "outputs": [],
   "source": [
    "Q19.Write a code to find the union of two sets {1, 2, 3} and {3, 4, 5}."
   ]
  },
  {
   "cell_type": "code",
   "execution_count": 59,
   "id": "383c4382-188b-4cb7-b815-39b0e8a531f6",
   "metadata": {},
   "outputs": [
    {
     "data": {
      "text/plain": [
       "{1, 2, 3, 4, 5}"
      ]
     },
     "execution_count": 59,
     "metadata": {},
     "output_type": "execute_result"
    }
   ],
   "source": [
    "s1 = {1,2,3}\n",
    "s2 = {3,4,5} \n",
    "s1 | s2"
   ]
  },
  {
   "cell_type": "code",
   "execution_count": null,
   "id": "9912b21c-68a8-404b-954a-bd9e49d1a05e",
   "metadata": {},
   "outputs": [],
   "source": [
    "Q20.Write a code to find the intersection of two sets {1, 2, 3} and {2, 3, 4}."
   ]
  },
  {
   "cell_type": "code",
   "execution_count": 60,
   "id": "958f4e9f-9107-4572-b8ff-69806d96fc55",
   "metadata": {},
   "outputs": [
    {
     "data": {
      "text/plain": [
       "{1}"
      ]
     },
     "execution_count": 60,
     "metadata": {},
     "output_type": "execute_result"
    }
   ],
   "source": [
    "s1 = {1 , 2 , 3 }\n",
    "s2 = { 2 , 3 , 4}\n",
    "s1-s2"
   ]
  },
  {
   "cell_type": "code",
   "execution_count": null,
   "id": "c22c5092-3bd2-4bf2-b0b2-75a4e69c2ee4",
   "metadata": {},
   "outputs": [],
   "source": [
    "Q21.Write a code to create a dictionary with the keys \"name\", \"age\", and \"city\", and print it."
   ]
  },
  {
   "cell_type": "code",
   "execution_count": 65,
   "id": "b4ecd8e3-789a-4860-b01c-01d1a762ee7a",
   "metadata": {},
   "outputs": [
    {
     "name": "stdout",
     "output_type": "stream",
     "text": [
      "{'name': 'Om', 'age': 23, 'city': 'Dhanbad'}\n"
     ]
    }
   ],
   "source": [
    "students_details = {\"name\":\"Om\",\"age\":23,\"city\":\"Dhanbad\"}\n",
    "print(students_details)"
   ]
  },
  {
   "cell_type": "code",
   "execution_count": null,
   "id": "f28527a2-cdd0-4b06-9d65-c3cea296d297",
   "metadata": {},
   "outputs": [],
   "source": [
    "Q22.Write a code to add a new key-value pair \"country\": \"USA\" to the dictionary {'name': 'John', 'age': 25}."
   ]
  },
  {
   "cell_type": "code",
   "execution_count": 66,
   "id": "fdca7cd2-9c93-442f-a58a-119ff4a7c6f0",
   "metadata": {},
   "outputs": [
    {
     "name": "stdout",
     "output_type": "stream",
     "text": [
      "{'name': 'John', 'age': 25, 'country': 'USA'}\n"
     ]
    }
   ],
   "source": [
    "students_details = {'name': 'John', 'age': 25}\n",
    "students_details[\"country\"] = \"USA\"\n",
    "print(students_details)"
   ]
  },
  {
   "cell_type": "code",
   "execution_count": null,
   "id": "d8d55404-d2f9-4777-8bf3-46e5ddc805e8",
   "metadata": {},
   "outputs": [],
   "source": [
    "Q23. Write a code to access the value associated with the key \"name\" in the dictionary {'name': 'Alice', 'age': 30}."
   ]
  },
  {
   "cell_type": "code",
   "execution_count": 67,
   "id": "91b07a78-41c9-47f6-ab21-ee150aff73ce",
   "metadata": {},
   "outputs": [
    {
     "data": {
      "text/plain": [
       "'Alice'"
      ]
     },
     "execution_count": 67,
     "metadata": {},
     "output_type": "execute_result"
    }
   ],
   "source": [
    "students_details ={'name': 'Alice', 'age': 30}\n",
    "students_details['name']"
   ]
  },
  {
   "cell_type": "code",
   "execution_count": null,
   "id": "bbed41c8-0002-4d0a-be73-1b9fb1de833b",
   "metadata": {},
   "outputs": [],
   "source": [
    "Q24.Write a code to remove the key \"age\" from the dictionary {'name': 'Bob', 'age': 22, 'city': 'New York'}."
   ]
  },
  {
   "cell_type": "code",
   "execution_count": 69,
   "id": "196f42b5-ff66-4f97-b33d-a485970d9036",
   "metadata": {},
   "outputs": [
    {
     "name": "stdout",
     "output_type": "stream",
     "text": [
      "{'name': 'Bob', 'city': 'New York'}\n"
     ]
    }
   ],
   "source": [
    "college_details =  {'name': 'Bob', 'age': 22, 'city': 'New York'}\n",
    "del college_details[\"age\"]\n",
    "print(college_details)"
   ]
  },
  {
   "cell_type": "code",
   "execution_count": null,
   "id": "689dbd8f-4dd5-490c-8c76-d3dc6772f5d1",
   "metadata": {},
   "outputs": [],
   "source": [
    "Q25.Write a code to check if the key \"city\" exists in the dictionary {'name': 'Alice', 'city': 'Paris'}."
   ]
  },
  {
   "cell_type": "code",
   "execution_count": 71,
   "id": "ff83da9b-27e8-4da7-a31a-f2f71ceaa673",
   "metadata": {},
   "outputs": [
    {
     "name": "stdout",
     "output_type": "stream",
     "text": [
      "key 'city' exists in the dicitionary.\n"
     ]
    }
   ],
   "source": [
    "person = {'name': 'Alice', 'city': 'Paris'}\n",
    "if 'city' in person:\n",
    "    print(\"key 'city' exists in the dicitionary.\")\n",
    "else:\n",
    "    print(\"key 'city' does not exists in the dicitionary.\")"
   ]
  },
  {
   "cell_type": "code",
   "execution_count": null,
   "id": "e6578e00-d6de-4a6a-9df6-2523968f3993",
   "metadata": {},
   "outputs": [],
   "source": [
    "Q26. Write a code to create a list, a tuple, and a dictionary, and print them all."
   ]
  },
  {
   "cell_type": "code",
   "execution_count": 82,
   "id": "d0a5532f-e139-4653-8b49-cc83df169561",
   "metadata": {},
   "outputs": [
    {
     "name": "stdout",
     "output_type": "stream",
     "text": [
      "Lists : [10, 20, 30, 40, 50]\n",
      "Tuple: ('apple', 'pineapple', 'graphes')\n",
      "Dictionary: {'name': 'Alice', 'city': 'Paris'}\n"
     ]
    }
   ],
   "source": [
    "my_list = [ 10,20,30,40,50]\n",
    "my_tuple =(\"apple\",\"pineapple\",\"graphes\")\n",
    "my_dict = {'name': 'Alice', 'city': 'Paris'}\n",
    "print(\"Lists :\", my_list)\n",
    "print(\"Tuple:\",my_tuple)\n",
    "print(\"Dictionary:\", my_dict)\n",
    "           "
   ]
  },
  {
   "cell_type": "code",
   "execution_count": null,
   "id": "49031afd-992a-46e2-833d-71c57315144e",
   "metadata": {},
   "outputs": [],
   "source": [
    "Q27. Write a code to create a list of 5 random numbers between 1 and 100, sort it in ascending order, and print the\n",
    "result.(replaced)"
   ]
  },
  {
   "cell_type": "code",
   "execution_count": 78,
   "id": "62943cde-1a43-4164-9222-3f3c2742a5ac",
   "metadata": {},
   "outputs": [
    {
     "name": "stdout",
     "output_type": "stream",
     "text": [
      "[23, 25, 28, 53, 74]\n"
     ]
    }
   ],
   "source": [
    "import random \n",
    "random_numbers = [random.randint(1,100) for _ in range(5)]\n",
    "random_numbers.sort()\n",
    "print(random_numbers)\n"
   ]
  },
  {
   "cell_type": "code",
   "execution_count": null,
   "id": "9b29a5a6-d2e8-42e5-ad8f-dcf5e9f13d89",
   "metadata": {},
   "outputs": [],
   "source": [
    "Q28.Write a code to create a list with strings and print the element at the third index."
   ]
  },
  {
   "cell_type": "code",
   "execution_count": 87,
   "id": "9ca3505f-7f02-4ed7-b407-6bf1047f3d11",
   "metadata": {},
   "outputs": [
    {
     "name": "stdout",
     "output_type": "stream",
     "text": [
      "saumya\n"
     ]
    }
   ],
   "source": [
    "name =[\"om\", \"prem\",\"ramesh\",\"saumya\",\"manshi\"]\n",
    "print(name[3])"
   ]
  },
  {
   "cell_type": "code",
   "execution_count": null,
   "id": "be7e69f9-0bc6-4d1e-8c5a-68a2ecd377a7",
   "metadata": {},
   "outputs": [],
   "source": [
    "Q29.Write a code to combine two dictionaries into one and print the result."
   ]
  },
  {
   "cell_type": "code",
   "execution_count": 88,
   "id": "556b87ee-186d-4405-8800-b230633856ae",
   "metadata": {},
   "outputs": [
    {
     "name": "stdout",
     "output_type": "stream",
     "text": [
      "=== Combined Dictionary ===\n",
      "a: 1\n",
      "=========================\n",
      "b: 2\n",
      "=========================\n",
      "c: 3\n",
      "=========================\n",
      "d: 4\n",
      "=========================\n"
     ]
    }
   ],
   "source": [
    "dict1  = {'a':1,'b':2}\n",
    "dict2 = {'c':3,'d':4}\n",
    "combined_dict = {**dict1 ,**dict2}\n",
    "print( \"=== Combined Dictionary ===\" )\n",
    "for key , value in combined_dict.items():\n",
    "    print(f\"{key}: {value}\")\n",
    "    print(\"=========================\")"
   ]
  },
  {
   "cell_type": "code",
   "execution_count": null,
   "id": "7ab6b3e8-3de4-4594-b702-faa7cdab021d",
   "metadata": {},
   "outputs": [],
   "source": [
    "Q30. Write a code to convert a list of strings into a set."
   ]
  },
  {
   "cell_type": "code",
   "execution_count": 91,
   "id": "6070b0c0-3fe8-48da-8eb6-2340268f5176",
   "metadata": {},
   "outputs": [
    {
     "name": "stdout",
     "output_type": "stream",
     "text": [
      "strings: {'banana', 'apple', 'pineapple'}\n"
     ]
    }
   ],
   "source": [
    "fruits = [ \"apple\" , \"banana\", \"pineapple\"]\n",
    "fruits_str = set(fruits)\n",
    "print(\"strings:\" , fruits_str)"
   ]
  },
  {
   "cell_type": "code",
   "execution_count": null,
   "id": "b77d3547-e79c-488c-b9f8-89504454a218",
   "metadata": {},
   "outputs": [],
   "source": []
  }
 ],
 "metadata": {
  "kernelspec": {
   "display_name": "Python 3 (ipykernel)",
   "language": "python",
   "name": "python3"
  },
  "language_info": {
   "codemirror_mode": {
    "name": "ipython",
    "version": 3
   },
   "file_extension": ".py",
   "mimetype": "text/x-python",
   "name": "python",
   "nbconvert_exporter": "python",
   "pygments_lexer": "ipython3",
   "version": "3.13.3"
  }
 },
 "nbformat": 4,
 "nbformat_minor": 5
}
